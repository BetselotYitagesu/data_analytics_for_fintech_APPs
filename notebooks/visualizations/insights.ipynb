{
 "cells": [
  {
   "cell_type": "markdown",
   "id": "3eacd33f",
   "metadata": {},
   "source": [
    "## Insights and Visualizations "
   ]
  },
  {
   "cell_type": "code",
   "execution_count": null,
   "id": "7dfc76e7",
   "metadata": {},
   "outputs": [],
   "source": [
    "# Cell 1: Imports and Data Loading\n",
    "import pandas as pd\n",
    "import seaborn as sns\n",
    "import matplotlib.pyplot as plt\n",
    "\n",
    "# Load the sentiment_reviews dataset\n",
    "df = pd.read_csv(\"E:/Tenx/Week 2/data/processed/sentiment_reviews.csv\")\n",
    "\n",
    "# Parse the date column\n",
    "df['date'] = pd.to_datetime(df['date'], errors='coerce')\n",
    "\n",
    "# Quick sanity check\n",
    "print(df.head())\n"
   ]
  },
  {
   "cell_type": "code",
   "execution_count": null,
   "id": "530e8529",
   "metadata": {},
   "outputs": [],
   "source": [
    "neg_df = df[df['sentiment_label'] == 'NEGATIVE']\n",
    "neg_exp = neg_df.explode('themes')\n",
    "\n",
    "pain_points = (\n",
    "    neg_exp\n",
    "    .groupby(['bank', 'themes'])\n",
    "    .size()\n",
    "    .reset_index(name='count')\n",
    "    .sort_values(['bank', 'count'], ascending=[True, False])\n",
    "    .groupby('bank')\n",
    "    .head(2)    # top 2 pain points per bank\n",
    ")\n",
    "print(\"Top pain points per bank:\\n\", pain_points)\n"
   ]
  }
 ],
 "metadata": {
  "kernelspec": {
   "display_name": "fintechenv",
   "language": "python",
   "name": "python3"
  },
  "language_info": {
   "codemirror_mode": {
    "name": "ipython",
    "version": 3
   },
   "file_extension": ".py",
   "mimetype": "text/x-python",
   "name": "python",
   "nbconvert_exporter": "python",
   "pygments_lexer": "ipython3",
   "version": "3.13.3"
  }
 },
 "nbformat": 4,
 "nbformat_minor": 5
}
